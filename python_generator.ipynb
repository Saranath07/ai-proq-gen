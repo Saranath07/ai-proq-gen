{
 "cells": [
  {
   "cell_type": "code",
   "execution_count": 1,
   "metadata": {},
   "outputs": [
    {
     "data": {
      "text/plain": [
       "True"
      ]
     },
     "execution_count": 1,
     "metadata": {},
     "output_type": "execute_result"
    }
   ],
   "source": [
    "from dotenv import load_dotenv\n",
    "load_dotenv()\n"
   ]
  },
  {
   "cell_type": "code",
   "execution_count": 2,
   "metadata": {},
   "outputs": [
    {
     "name": "stderr",
     "output_type": "stream",
     "text": [
      "/home/saranath/ai-proq-gen/myvenv/lib64/python3.12/site-packages/sentence_transformers/cross_encoder/CrossEncoder.py:11: TqdmWarning: IProgress not found. Please update jupyter and ipywidgets. See https://ipywidgets.readthedocs.io/en/stable/user_install.html\n",
      "  from tqdm.autonotebook import tqdm, trange\n"
     ]
    }
   ],
   "source": [
    "import json\n",
    "from proq_gen.generators.chroma import get_db_store\n",
    "from proq_gen.generators.ideation import get_ideation_chain\n",
    "from proq_gen.generators.generator import get_generator_chain\n",
    "from proq_gen.generators.test_case import update_data_store_with_test_cases\n",
    "\n",
    "\n",
    "with open(\"data/python_kb.json\") as f:\n",
    "    python_kb = json.load(f)\n",
    "\n",
    "ideation_chain = get_ideation_chain(\n",
    "    lang=\"python\",\n",
    "    concept_groups=[\n",
    "        (\n",
    "            python_kb[\"data_processing\"][\"concepts\"],\n",
    "            6,\n",
    "        ),  # randomly picks 6 concepts from all concepts\n",
    "        (\n",
    "            python_kb[\"data_formats\"],\n",
    "            5,\n",
    "        ),  # randomly picks 5 data formats from all data formats\n",
    "    ],\n",
    "    **python_kb[\"data_processing\"][\"ideation\"]\n",
    ")\n",
    "\n",
    "\n",
    "\n",
    "db_store = get_db_store(\"python-questions\")\n",
    "\n",
    "generator_chain = get_generator_chain(ideation_chain, db_store)"
   ]
  },
  {
   "cell_type": "code",
   "execution_count": 3,
   "metadata": {},
   "outputs": [
    {
     "ename": "AttributeError",
     "evalue": "'Chroma' object has no attribute 'copy'",
     "output_type": "error",
     "traceback": [
      "\u001b[0;31m---------------------------------------------------------------------------\u001b[0m",
      "\u001b[0;31mAttributeError\u001b[0m                            Traceback (most recent call last)",
      "Cell \u001b[0;32mIn[3], line 4\u001b[0m\n\u001b[1;32m      1\u001b[0m \u001b[38;5;66;03m# generator_chain = get_generator_chain(ideation_chain, db_store)\u001b[39;00m\n\u001b[1;32m      2\u001b[0m generator_chain\u001b[38;5;241m.\u001b[39minvoke({\u001b[38;5;124m\"\u001b[39m\u001b[38;5;124mn_problems\u001b[39m\u001b[38;5;124m\"\u001b[39m: \u001b[38;5;241m5\u001b[39m})\n\u001b[0;32m----> 4\u001b[0m data_store \u001b[38;5;241m=\u001b[39m \u001b[43mupdate_data_store_with_test_cases\u001b[49m\u001b[43m(\u001b[49m\u001b[43mdb_store\u001b[49m\u001b[43m)\u001b[49m\n\u001b[1;32m      5\u001b[0m \u001b[38;5;28mprint\u001b[39m(data_store)\n",
      "File \u001b[0;32m~/ai-proq-gen/proq_gen/generators/test_case.py:32\u001b[0m, in \u001b[0;36mupdate_data_store_with_test_cases\u001b[0;34m(data_store)\u001b[0m\n\u001b[1;32m     31\u001b[0m \u001b[38;5;28;01mdef\u001b[39;00m \u001b[38;5;21mupdate_data_store_with_test_cases\u001b[39m(data_store):\n\u001b[0;32m---> 32\u001b[0m     updated_data_store \u001b[38;5;241m=\u001b[39m \u001b[43mdata_store\u001b[49m\u001b[38;5;241;43m.\u001b[39;49m\u001b[43mcopy\u001b[49m()\n\u001b[1;32m     33\u001b[0m     \u001b[38;5;28;01mfor\u001b[39;00m problem_statement, solution \u001b[38;5;129;01min\u001b[39;00m data_store\u001b[38;5;241m.\u001b[39mitems():\n\u001b[1;32m     34\u001b[0m         test_case_chain \u001b[38;5;241m=\u001b[39m get_test_case_chain(\u001b[38;5;124m\"\u001b[39m\u001b[38;5;124mpython\u001b[39m\u001b[38;5;124m\"\u001b[39m, \u001b[38;5;241m3\u001b[39m, updated_data_store, problem_statement, solution)\n",
      "\u001b[0;31mAttributeError\u001b[0m: 'Chroma' object has no attribute 'copy'"
     ]
    }
   ],
   "source": [
    "# generator_chain = get_generator_chain(ideation_chain, db_store)\n",
    "generator_chain.invoke({\"n_problems\": 5})\n",
    "\n",
    "data_store = update_data_store_with_test_cases(db_store)\n",
    "print(data_store)"
   ]
  },
  {
   "cell_type": "code",
   "execution_count": 28,
   "metadata": {},
   "outputs": [],
   "source": [
    "doc = db_store.similarity_search(\"count\")[0]"
   ]
  },
  {
   "cell_type": "code",
   "execution_count": 29,
   "metadata": {},
   "outputs": [],
   "source": [
    "doc.metadata[\"testcaes\"] = {\"input\":\"print('hello')\", \"output\":\"hello\"}"
   ]
  },
  {
   "cell_type": "code",
   "execution_count": 35,
   "metadata": {},
   "outputs": [],
   "source": [
    "data = db_store.get()"
   ]
  },
  {
   "cell_type": "code",
   "execution_count": 39,
   "metadata": {},
   "outputs": [
    {
     "data": {
      "text/plain": [
       "{'ids': ['03c32fa3-de05-4149-8cc4-88773151f547',\n",
       "  '09b573e4-c770-4b8d-b6c0-dc2d0acabf1c',\n",
       "  '1653470e-6d06-48a9-8769-5e1240da7190',\n",
       "  '17f50f95-c5e3-489a-8c68-263f00400dfa',\n",
       "  '3c381cf2-b6b2-40e2-8d0c-cff7e578f3f9',\n",
       "  '43f27f5e-12b3-4c14-9b2b-263ae0b78520',\n",
       "  '4ea14eb8-8ea2-4729-97e9-4b1a1fd3b4b9',\n",
       "  '56ab1e93-559c-4017-9da6-3b863eb5f202',\n",
       "  '5844f0b5-fcd0-4490-9544-4d015583544d',\n",
       "  '5d5863af-79b8-444b-aa3c-53a2af318acc',\n",
       "  '66d68320-1264-480a-827d-8dc3ddc2ac7e',\n",
       "  '764803c5-7251-4150-b735-ab2d46e99d66',\n",
       "  '7c484fce-b222-478c-9fbf-092a2ce62ca9',\n",
       "  '862b0c22-6ebd-48b7-8ef6-055d4dbd10a2',\n",
       "  '8a1865f7-19ec-4168-a7d9-a8182693e96e',\n",
       "  '8d180a75-c645-4d6f-9afa-949435d39be8',\n",
       "  'b06c816c-fd72-43ef-b295-87878d747d41',\n",
       "  'b2f95667-0335-4e3c-b48b-4c949d0b2974',\n",
       "  'c0e3e032-172f-4ffa-93e6-36cc60ee5aae',\n",
       "  'c0ff2e3e-62d3-48cd-86dc-3aa6396a2701',\n",
       "  'c2d99bff-60ba-4dbc-993e-cbe1d5244d22',\n",
       "  'c4df2c10-600d-4fdd-a53a-1f26ffef66cb',\n",
       "  'cd0ee178-3ebf-4317-9fa9-6baf2980f4ed'],\n",
       " 'embeddings': None,\n",
       " 'metadatas': [{'data_formats': 'str,int',\n",
       "   'solution': 'def count_consecutive_repeating_chars(s:str)->int:\\n    count = 1\\n    total_count = 0\\n    for i in range(1, len(s)):\\n        if s[i] == s[i-1]:\\n            count += 1\\n        else:\\n            total_count += count\\n            count = 1\\n    return total_count + count',\n",
       "   'tags': 'count,loop,string'},\n",
       "  {'data_formats': 'int,list',\n",
       "   'solution': 'def index_of_max_value(nums:list[int]) -> int:\\n    return nums.index(max(nums))',\n",
       "   'tags': 'numeric,index,max'},\n",
       "  {'data_formats': 'str,list',\n",
       "   'solution': \"def concat_strings_with_hyphen(strings:list[str]) -> str:\\n    return '-'.join(strings)\",\n",
       "   'tags': 'string,concatenation'},\n",
       "  {'data_formats': 'int,list',\n",
       "   'solution': 'def index_of_max(nums:list[int])->int:\\n    return nums.index(max(nums))',\n",
       "   'tags': 'numeric,max,index'},\n",
       "  {'data_formats': 'int,list',\n",
       "   'solution': 'import math\\ndef filter_perfect_squares(nums:list[int])->list[int]:\\n    return list(filter(lambda x: math.sqrt(x) == int(math.sqrt(x)), nums))',\n",
       "   'tags': 'filter,perfect-square,lambda'},\n",
       "  {'data_formats': 'str,int',\n",
       "   'solution': 'def count_long_words(sentence:str)->int:\\n    return sum(len(word) > 5 for word in sentence.split())',\n",
       "   'tags': 'string,words,count'},\n",
       "  {'data_formats': 'str,int',\n",
       "   'solution': \"def max_vowel_words(sentence:str)->int:\\n    vowels = 'aeiou'\\n    words = sentence.split()\\n    max_count = 0\\n    for word in words:\\n        if word[0].lower() in vowels:\\n            max_count += 1\\n    return max_count\",\n",
       "   'tags': 'string,vowels,max,words'},\n",
       "  {'data_formats': 'int,list[list]',\n",
       "   'solution': 'def max_value_matrix(matrix:list[list[int]])->int:\\n    return max(max(row) for row in matrix)',\n",
       "   'tags': 'matrix,max,generator'},\n",
       "  {'data_formats': 'int,list[list]',\n",
       "   'solution': 'def sum_matrix(matrix:list[list[int]])->int:\\n    return sum(sum(row) for row in matrix)',\n",
       "   'tags': 'matrix,sum,numeric'},\n",
       "  {'data_formats': 'int,list',\n",
       "   'solution': 'def sum_of_elements_geq_index(nums:list[int]) -> int:\\n    return sum(num for i, num in enumerate(nums) if num >= i)',\n",
       "   'tags': 'numeric,aggregation,conditional'},\n",
       "  {'data_formats': 'int,str',\n",
       "   'solution': \"def num_to_hyphen_string(num:int)->str:\\n    return '-'.join(str(num))\",\n",
       "   'tags': 'numeric,string,join'},\n",
       "  {'data_formats': 'str,set,int',\n",
       "   'solution': 'def sum_count_unique_words(sentence:str)->int:\\n    words = sentence.split()\\n    unique_words = set(words)\\n    return sum(words.count(word) for word in unique_words)',\n",
       "   'tags': 'count,set,split,sum'},\n",
       "  {'data_formats': 'int,list[list]',\n",
       "   'solution': \"def max_sum_submatrix(matrix:list[list[int]])->int:\\n    max_sum = float('-inf')\\n    for i in range(len(matrix)):\\n        row_sums = [0] * len(matrix[0])\\n        for j in range(i, len(matrix)):\\n            for k in range(len(matrix[0])):\\n                row_sums[k] += matrix[j][k]\\n            max_sum = max(max_sum, max(row_sums))\\n            max_sum = max(max_sum, max(row_sums[i:]) for i in range(len(row_sums)))\\n    return max_sum\",\n",
       "   'tags': 'matrix,sum,max'},\n",
       "  {'data_formats': 'int,list',\n",
       "   'solution': 'import math\\ndef product_non_perfect_squares(nums:list[int])->int:\\n    return math.prod(x for x in nums if math.sqrt(x) != int(math.sqrt(x)))',\n",
       "   'tags': 'product,filter,perfect-square'},\n",
       "  {'data_formats': 'int,list[list]',\n",
       "   'solution': 'def max_sum_matrix(matrices:list[list[list[int]]])->list[list[int]]:\\n    return max(matrices, key=lambda x: sum(sum(row) for row in x))',\n",
       "   'tags': 'matrix,sum,max'},\n",
       "  {'data_formats': 'str,int',\n",
       "   'solution': 'def max_word_length(sentence:str)->int:\\n    return max(len(word) for word in sentence.split())',\n",
       "   'tags': 'max,split,generator'},\n",
       "  {'data_formats': 'int,list[list],tuple',\n",
       "   'solution': 'def max_value_and_position(matrix:list[list[int]]) -> tuple:\\n    return max(((val, i, j) for i, row in enumerate(matrix) for j, val in enumerate(row)), key=lambda x: x[0])',\n",
       "   'tags': 'matrix,max,position'},\n",
       "  {'data_formats': 'int,list',\n",
       "   'solution': 'def index_of_max_value(nums:list[int])->int:\\n    return nums.index(max(nums))',\n",
       "   'tags': 'index,max,list'},\n",
       "  {'data_formats': 'int,list,dict',\n",
       "   'solution': 'def count_dict(nums:list[int])->dict[int, int]:\\n    return {num: nums.count(num) for num in nums}',\n",
       "   'tags': 'numeric,dict,count'},\n",
       "  {'data_formats': 'str,set,dict',\n",
       "   'solution': 'def count_unique_words(sentence:str)->dict[str, int]:\\n    words = sentence.split()\\n    return {word: words.count(word) for word in set(words)}',\n",
       "   'tags': 'count,set,split,dict'},\n",
       "  {'data_formats': 'str,int',\n",
       "   'solution': \"def max_vowels_in_substring(s:str)->int:\\n    vowels = 'aeiou'\\n    max_count = 0\\n    for i in range(len(s)):\\n        vowel_count = 0\\n        for j in range(i, len(s)):\\n            if s[j] in vowels:\\n                vowel_count += 1\\n            max_count = max(max_count, vowel_count)\\n    return max_count\",\n",
       "   'tags': 'string,vowels,max,substring'},\n",
       "  {'data_formats': 'str,dict',\n",
       "   'solution': \"def count_a_in_words(sentence:str) -> dict:\\n    return {word: word.count('a') for word in sentence.split()}\",\n",
       "   'tags': 'dictionary,split,count'},\n",
       "  {'data_formats': 'str',\n",
       "   'solution': \"def max_consonants(sentence:str)->str:\\n    consonants = 'bcdfghjklmnpqrstvwxyz'\\n    return max(sentence.split(), key=lambda x: sum(c in consonants for c in x.lower()))\",\n",
       "   'tags': 'string,consonants,max'}],\n",
       " 'documents': ['Find the count of consecutive repeating characters in a string.',\n",
       "  'Find the index of the first occurrence of the maximum value in a list.',\n",
       "  'Create a string with the concatenation of all strings in a list separated by a hyphen.',\n",
       "  'Find the index of the maximum element in a list.',\n",
       "  'Given a list of integers, filter out the numbers that are not perfect squares.',\n",
       "  'Given a string, return the count of words that are longer than 5 characters.',\n",
       "  'Given a string, return the maximum count of words that start with a vowel.',\n",
       "  'Find the maximum value in a matrix.',\n",
       "  'Find the sum of all the numbers in a matrix',\n",
       "  'Find the sum of all integers in a list that are greater than or equal to their index.',\n",
       "  'Given an integer, return its string representation with all digits separated by hyphens.',\n",
       "  'Find the sum of the count of each unique word in a string.',\n",
       "  'Find the maximum sum of a submatrix in a matrix.',\n",
       "  'Given a list of integers, find the product of the numbers that are not perfect squares.',\n",
       "  'Find the matrix with the maximum sum of its elements.',\n",
       "  'Find the maximum length of a word in a string.',\n",
       "  'Find the maximum value in a matrix and its position.',\n",
       "  'Find the index of the first occurrence of a maximum value in a list.',\n",
       "  'Given a list of integers, return a dictionary with each integer as key and its count as value.',\n",
       "  'Find the count of each unique word in a string and return as a dictionary.',\n",
       "  'Given a string, return the maximum count of vowels in any substring.',\n",
       "  \"Create a dictionary where keys are the words in a sentence and values are the count of 'a' in each word.\",\n",
       "  'Find the word with the maximum number of consonants in a sentence.'],\n",
       " 'uris': None,\n",
       " 'data': None,\n",
       " 'included': ['metadatas', 'documents']}"
      ]
     },
     "execution_count": 39,
     "metadata": {},
     "output_type": "execute_result"
    }
   ],
   "source": [
    "data"
   ]
  },
  {
   "cell_type": "code",
   "execution_count": 42,
   "metadata": {},
   "outputs": [],
   "source": [
    "id_docs  = [\n",
    "    {'document_id':id,\"document\":Document(page_content=page_content, metadata=metadata)}\n",
    "    for id, page_content, metadata in zip(data[\"ids\"], data[\"documents\"], data[\"metadatas\"])\n",
    "]\n"
   ]
  },
  {
   "cell_type": "code",
   "execution_count": 48,
   "metadata": {},
   "outputs": [
    {
     "data": {
      "text/plain": [
       "{'ids': ['03c32fa3-de05-4149-8cc4-88773151f547'],\n",
       " 'embeddings': None,\n",
       " 'metadatas': [{'data_formats': 'str,int',\n",
       "   'solution': 'def count_consecutive_repeating_chars(s:str)->int:\\n    count = 1\\n    total_count = 0\\n    for i in range(1, len(s)):\\n        if s[i] == s[i-1]:\\n            count += 1\\n        else:\\n            total_count += count\\n            count = 1\\n    return total_count + count',\n",
       "   'tags': 'count,loop,string',\n",
       "   'testcases': 'sdfsdf'}],\n",
       " 'documents': ['Find the count of consecutive repeating characters in a string.'],\n",
       " 'uris': None,\n",
       " 'data': None,\n",
       " 'included': ['metadatas', 'documents']}"
      ]
     },
     "execution_count": 48,
     "metadata": {},
     "output_type": "execute_result"
    }
   ],
   "source": [
    "db_store.get(id_docs[0][\"document_id\"])"
   ]
  },
  {
   "cell_type": "code",
   "execution_count": 46,
   "metadata": {},
   "outputs": [],
   "source": [
    "id_docs[0][\"document\"].metadata[\"testcases\"] = \"sdfsdf\""
   ]
  },
  {
   "cell_type": "code",
   "execution_count": 47,
   "metadata": {},
   "outputs": [],
   "source": [
    "db_store.update_document(**id_docs[0])"
   ]
  },
  {
   "cell_type": "code",
   "execution_count": 24,
   "metadata": {},
   "outputs": [],
   "source": [
    "from langchain_core.documents import Document"
   ]
  },
  {
   "cell_type": "code",
   "execution_count": 26,
   "metadata": {},
   "outputs": [
    {
     "ename": "TypeError",
     "evalue": "Document.__init__() missing 1 required positional argument: 'page_content'",
     "output_type": "error",
     "traceback": [
      "\u001b[0;31m---------------------------------------------------------------------------\u001b[0m",
      "\u001b[0;31mTypeError\u001b[0m                                 Traceback (most recent call last)",
      "Cell \u001b[0;32mIn[26], line 1\u001b[0m\n\u001b[0;32m----> 1\u001b[0m \u001b[43mDocument\u001b[49m\u001b[43m(\u001b[49m\u001b[43m)\u001b[49m\n",
      "\u001b[0;31mTypeError\u001b[0m: Document.__init__() missing 1 required positional argument: 'page_content'"
     ]
    }
   ],
   "source": [
    "Document()"
   ]
  },
  {
   "cell_type": "code",
   "execution_count": null,
   "metadata": {},
   "outputs": [
    {
     "data": {
      "text/plain": [
       "[Document(metadata={'data_formats': 'int,list[list]', 'solution': 'def multiply_by_two(matrix:list[list[int]])->list[list[int]]:\\n    return [[num * 2 for num in row] for row in matrix]', 'tags': 'matrix,multiplication,list-comprehension', 'test_cases': '[\\n    {\"input\": [[1, 2], [3, 4]], \"output\": [[2, 4], [6, 8]]},\\n    {\"input\": [[-1, 0], [5, 10]], \"output\": [[-2, 0], [10, 20]]},\\n    {\"input\": [[0, 0], [0, 0]], \"output\": [[0, 0], [0, 0]]}\\n]'}, page_content='Given a matrix, return a new matrix with all numbers multiplied by 2'),\n",
       " Document(metadata={'data_formats': 'int,list[list]', 'solution': 'def count_even_rows(matrix:list[list[int]])->int:\\n    return sum(1 for row in matrix if len(row) % 2 == 0)', 'tags': 'count,matrix,filtering', 'test_cases': '[\\n    {\"input\": [[1, 2], [3, 4, 5], [6, 7, 8, 9]], \"output\": 1},\\n    {\"input\": [[1, 2, 3, 4], [5, 6], [7, 8, 9, 10]], \"output\": 2},\\n    {\"input\": [[1, 2, 3], [4, 5, 6], [7, 8, 9]], \"output\": 0}\\n]'}, page_content='Find the number of rows with an even number of elements in a matrix'),\n",
       " Document(metadata={'data_formats': 'int,list[list]', 'solution': 'def sum_even_nums(matrix:list[list[int]])->int:\\n    return sum(num for row in matrix for num in row if num % 2 == 0)', 'tags': 'matrix,sum,filtering', 'test_cases': '[\\n    {\"input\": [[1, 2, 3], [4, 5, 6], [7, 8, 9]], \"output\": 20},\\n    {\"input\": [[10, 20, 30], [40, 50, 60], [70, 80, 90]], \"output\": 300},\\n    {\"input\": [[1, 3, 5], [7, 9, 11], [13, 15, 17]], \"output\": 0}\\n]'}, page_content='Find the sum of all even numbers in a matrix'),\n",
       " Document(metadata={'data_formats': 'int,list', 'solution': 'def index_of_min(nums:list[int])->int:\\n    return nums.index(min(nums))', 'tags': 'min,index', 'test_cases': '[\\n    {\"input\": [5, 2, 8, 12, 3], \"output\": 1},\\n    {\"input\": [1, 2, 3, 4, 5], \"output\": 0},\\n    {\"input\": [10, 20, 30, 40, 50], \"output\": 0}\\n]'}, page_content='Find the index of the minimum number in a list')]"
      ]
     },
     "execution_count": 4,
     "metadata": {},
     "output_type": "execute_result"
    }
   ],
   "source": [
    "db_store.similarity_search(\"matrix\")"
   ]
  },
  {
   "cell_type": "code",
   "execution_count": null,
   "metadata": {},
   "outputs": [
    {
     "data": {
      "text/plain": [
       "[Document(metadata={'data_formats': 'str,dict', 'solution': 'def word_count(sentence:str)->dict:\\n    return {word: sentence.count(word) for word in sentence.split()}', 'tags': 'count,split,dictionary', 'test_cases': '[\\n    {\"input\": \"hello world\", \"output\": {\"hello\": 1, \"world\": 1}},\\n    {\"input\": \"hello hello world world\", \"output\": {\"hello\": 2, \"world\": 2}},\\n    {\"input\": \"\", \"output\": {}}\\n]'}, page_content='Given a string, return a dictionary with count of each word'),\n",
       " Document(metadata={'data_formats': 'str,list', 'solution': \"def concat_strings(strings:list[str])->str:\\n    return '-'.join(strings)\", 'tags': 'concatenation,join', 'test_cases': '[\\n    {\"input\": [\"hello\", \"world\", \"python\"], \"output\": \"hello-world-python\"},\\n    {\"input\": [\"a\", \"b\", \"c\", \"d\"], \"output\": \"a-b-c-d\"},\\n    {\"input\": [\"single\"], \"output\": \"single\"}\\n]'}, page_content='Given a list of strings, return a string with all strings concatenated and separated by hyphens'),\n",
       " Document(metadata={'data_formats': 'str', 'solution': \"def uppercase_words(sentence:str)->str:\\n    return '-'.join(word.upper() for word in sentence.split('-'))\", 'tags': 'uppercase,split,join', 'test_cases': '[\\n    {\"input\": \"hello world\", \"output\": \"HELLO WORLD\"},\\n    {\"input\": \"python is fun\", \"output\": \"PYTHON IS FUN\"},\\n    {\"input\": \"i am a test case\", \"output\": \"I AM A TEST CASE\"}\\n]'}, page_content='Given a string, return a new string with all words in uppercase'),\n",
       " Document(metadata={'data_formats': 'int,list[list]', 'solution': 'def multiply_by_two(matrix:list[list[int]])->list[list[int]]:\\n    return [[num * 2 for num in row] for row in matrix]', 'tags': 'matrix,multiplication,list-comprehension', 'test_cases': '[\\n    {\"input\": [[1, 2], [3, 4]], \"output\": [[2, 4], [6, 8]]},\\n    {\"input\": [[-1, 0], [5, 10]], \"output\": [[-2, 0], [10, 20]]},\\n    {\"input\": [[0, 0], [0, 0]], \"output\": [[0, 0], [0, 0]]}\\n]'}, page_content='Given a matrix, return a new matrix with all numbers multiplied by 2')]"
      ]
     },
     "execution_count": 5,
     "metadata": {},
     "output_type": "execute_result"
    }
   ],
   "source": [
    "db_store.similarity_search(\"a\")"
   ]
  },
  {
   "cell_type": "code",
   "execution_count": null,
   "metadata": {},
   "outputs": [
    {
     "ename": "AttributeError",
     "evalue": "'Chroma' object has no attribute 'get_texts_by_ids'",
     "output_type": "error",
     "traceback": [
      "\u001b[0;31m---------------------------------------------------------------------------\u001b[0m",
      "\u001b[0;31mAttributeError\u001b[0m                            Traceback (most recent call last)",
      "Cell \u001b[0;32mIn[12], line 1\u001b[0m\n\u001b[0;32m----> 1\u001b[0m \u001b[43mdb_store\u001b[49m\u001b[38;5;241;43m.\u001b[39;49m\u001b[43mget_texts_by_ids\u001b[49m([\u001b[38;5;124m'\u001b[39m\u001b[38;5;124m764803c5-7251-4150-b735-ab2d46e99d66\u001b[39m\u001b[38;5;124m'\u001b[39m])\n",
      "\u001b[0;31mAttributeError\u001b[0m: 'Chroma' object has no attribute 'get_texts_by_ids'"
     ]
    }
   ],
   "source": [
    "db_store.get_texts_by_ids(['764803c5-7251-4150-b735-ab2d46e99d66'])"
   ]
  }
 ],
 "metadata": {
  "kernelspec": {
   "display_name": "Python 3",
   "language": "python",
   "name": "python3"
  },
  "language_info": {
   "codemirror_mode": {
    "name": "ipython",
    "version": 3
   },
   "file_extension": ".py",
   "mimetype": "text/x-python",
   "name": "python",
   "nbconvert_exporter": "python",
   "pygments_lexer": "ipython3",
   "version": "3.12.1"
  }
 },
 "nbformat": 4,
 "nbformat_minor": 2
}

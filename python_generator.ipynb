{
 "cells": [
  {
   "cell_type": "code",
   "execution_count": 2,
   "metadata": {},
   "outputs": [
    {
     "data": {
      "text/plain": [
       "True"
      ]
     },
     "execution_count": 2,
     "metadata": {},
     "output_type": "execute_result"
    }
   ],
   "source": [
    "from dotenv import load_dotenv\n",
    "load_dotenv()"
   ]
  },
  {
   "cell_type": "code",
   "execution_count": 3,
   "metadata": {},
   "outputs": [
    {
     "name": "stderr",
     "output_type": "stream",
     "text": [
      "/home/necto/micromamba/envs/genai/lib/python3.12/site-packages/tqdm/auto.py:21: TqdmWarning: IProgress not found. Please update jupyter and ipywidgets. See https://ipywidgets.readthedocs.io/en/stable/user_install.html\n",
      "  from .autonotebook import tqdm as notebook_tqdm\n"
     ]
    }
   ],
   "source": [
    "import json\n",
    "from proq_gen.generators.chroma import get_db_store\n",
    "from proq_gen.generators.ideation import get_ideation_chain\n",
    "from proq_gen.generators.generator import get_generator_chain\n",
    "\n",
    "\n",
    "with open(\"data/python_kb.json\") as f:\n",
    "    python_kb = json.load(f)\n",
    "\n",
    "ideation_chain = get_ideation_chain(\n",
    "    lang=\"python\",\n",
    "    concept_groups=[\n",
    "        (\n",
    "            python_kb[\"data_processing\"][\"concepts\"],\n",
    "            6,\n",
    "        ),  # randomly picks 6 concepts from all concepts\n",
    "        (\n",
    "            python_kb[\"data_formats\"],\n",
    "            5,\n",
    "        ),  # randomly picks 5 data formats from all data formats\n",
    "    ],\n",
    "    **python_kb[\"data_processing\"][\"ideation\"]\n",
    ")\n",
    "\n",
    "db_store = get_db_store(\"python-questions\")\n",
    "\n",
    "generator_chain = get_generator_chain(ideation_chain, db_store)"
   ]
  },
  {
   "cell_type": "code",
   "execution_count": 5,
   "metadata": {},
   "outputs": [
    {
     "data": {
      "text/plain": [
       "{'new_problems': ['6718afce-82a3-4252-ab5b-541c52e229c7',\n",
       "  'ddef8e08-5a38-4cb4-a16c-a91ee3e6c4ef',\n",
       "  '36e07cae-abc4-4033-a667-c1df8eda7f52',\n",
       "  '2104c367-b9e0-4693-80b9-e02e8713ad9e',\n",
       "  '05ec70dd-8b8e-44b5-aee6-9c5cb9031171',\n",
       "  '9ecd368f-d110-4636-aea6-389421ed56e7',\n",
       "  '15ce9a70-2ceb-469b-ac66-e424e9dc9c73',\n",
       "  '53a18c00-c959-42fb-b74c-e3aa3dee6f4a'],\n",
       " 'duplicate_problems': [{'problem': {'statement': 'Given a list of integers, find the sum of the squares of the numbers greater than the average of the list.',\n",
       "    'solution': 'def sum_squares_greater_than_avg(nums:list[int])->int:\\n    avg = sum(nums)/len(nums)\\n    return sum(map(lambda x: x**2, filter(lambda x: x > avg, nums)))',\n",
       "    'tags': ['numeric', 'map', 'aggregation', 'filtering'],\n",
       "    'data_formats': ['int', 'list']},\n",
       "   'statement1': 'Given a list of integers, find the sum of the squares of the numbers greater than the average of the list.',\n",
       "   'statement2': 'Given a list of integers, find the sum of the squares of the numbers that are greater than the average.',\n",
       "   'is_equal': True},\n",
       "  {'problem': {'statement': 'Given a list of integers, find the count of even numbers.',\n",
       "    'solution': 'def count_even_nums(nums:list[int])->int:\\n    return sum(1 for num in nums if num%2==0)',\n",
       "    'tags': ['count', 'generator'],\n",
       "    'data_formats': ['int', 'list']},\n",
       "   'statement1': 'Given a list of integers, find the count of even numbers.',\n",
       "   'statement2': 'Given a list of integers, find the count of even numbers.',\n",
       "   'is_equal': True}]}"
      ]
     },
     "execution_count": 5,
     "metadata": {},
     "output_type": "execute_result"
    }
   ],
   "source": [
    "generator_chain.invoke({\"n_problems\":10})"
   ]
  },
  {
   "cell_type": "code",
   "execution_count": null,
   "metadata": {},
   "outputs": [],
   "source": []
  },
  {
   "cell_type": "code",
   "execution_count": null,
   "metadata": {},
   "outputs": [],
   "source": []
  }
 ],
 "metadata": {
  "kernelspec": {
   "display_name": "Python 3",
   "language": "python",
   "name": "python3"
  },
  "language_info": {
   "codemirror_mode": {
    "name": "ipython",
    "version": 3
   },
   "file_extension": ".py",
   "mimetype": "text/x-python",
   "name": "python",
   "nbconvert_exporter": "python",
   "pygments_lexer": "ipython3",
   "version": "3.12.4"
  }
 },
 "nbformat": 4,
 "nbformat_minor": 2
}

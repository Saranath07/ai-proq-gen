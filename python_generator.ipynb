{
 "cells": [
  {
   "cell_type": "code",
   "execution_count": 1,
   "metadata": {},
   "outputs": [
    {
     "data": {
      "text/plain": [
       "True"
      ]
     },
     "execution_count": 1,
     "metadata": {},
     "output_type": "execute_result"
    }
   ],
   "source": [
    "from dotenv import load_dotenv\n",
    "load_dotenv()\n"
   ]
  },
  {
   "cell_type": "code",
   "execution_count": 2,
   "metadata": {},
   "outputs": [
    {
     "name": "stderr",
     "output_type": "stream",
     "text": [
      "/home/saranath/ai-proq-gen/myvenv/lib64/python3.12/site-packages/sentence_transformers/cross_encoder/CrossEncoder.py:11: TqdmWarning: IProgress not found. Please update jupyter and ipywidgets. See https://ipywidgets.readthedocs.io/en/stable/user_install.html\n",
      "  from tqdm.autonotebook import tqdm, trange\n"
     ]
    }
   ],
   "source": [
    "import json\n",
    "from proq_gen.generators.chroma import get_db_store\n",
    "from proq_gen.generators.ideation import get_ideation_chain\n",
    "from proq_gen.generators.generator import get_generator_chain\n",
    "\n",
    "\n",
    "with open(\"data/python_kb.json\") as f:\n",
    "    python_kb = json.load(f)\n",
    "\n",
    "ideation_chain = get_ideation_chain(\n",
    "    lang=\"python\",\n",
    "    concept_groups=[\n",
    "        (\n",
    "            python_kb[\"data_processing\"][\"concepts\"],\n",
    "            6,\n",
    "        ),  # randomly picks 6 concepts from all concepts\n",
    "        (\n",
    "            python_kb[\"data_formats\"],\n",
    "            5,\n",
    "        ),  # randomly picks 5 data formats from all data formats\n",
    "    ],\n",
    "    **python_kb[\"data_processing\"][\"ideation\"]\n",
    ")\n",
    "\n",
    "\n",
    "\n",
    "db_store = get_db_store(\"python-questions\")\n",
    "\n",
    "generator_chain = get_generator_chain(ideation_chain, db_store)"
   ]
  },
  {
   "cell_type": "code",
   "execution_count": 3,
   "metadata": {},
   "outputs": [
    {
     "data": {
      "text/plain": [
       "{'new_problems': ['43e987a3-8f54-4570-83b8-5eef74735175',\n",
       "  'c131be28-85c4-4a10-a5dc-56d7ce8a68b1',\n",
       "  '668a6547-90fa-4ff9-a3eb-a06264738022',\n",
       "  'c858e553-e400-4289-b3dc-b32fe95de072',\n",
       "  '222df03b-3dd2-41b4-9502-aeb94dbe51d0',\n",
       "  '31c32645-648a-479f-9f45-66d9b5650a1a',\n",
       "  '6d47400f-fbcd-42bd-837c-9c453996f2af',\n",
       "  '1f09ea07-5c4e-413b-9720-eb665d7231c1',\n",
       "  '262585d2-6926-46fb-87a6-673644a52132',\n",
       "  '07dc12f2-048a-4b1f-b252-f7a8533a6164'],\n",
       " 'duplicate_problems': []}"
      ]
     },
     "execution_count": 3,
     "metadata": {},
     "output_type": "execute_result"
    }
   ],
   "source": [
    "generator_chain.invoke({\"n_problems\":10})"
   ]
  },
  {
   "cell_type": "code",
   "execution_count": 4,
   "metadata": {},
   "outputs": [
    {
     "data": {
      "text/plain": [
       "[Document(metadata={'data_formats': 'int,list[list]', 'solution': 'def multiply_by_two(matrix:list[list[int]])->list[list[int]]:\\n    return [[num * 2 for num in row] for row in matrix]', 'tags': 'matrix,multiplication,list-comprehension', 'test_cases': '[\\n    {\"input\": [[1, 2], [3, 4]], \"output\": [[2, 4], [6, 8]]},\\n    {\"input\": [[-1, 0], [5, 10]], \"output\": [[-2, 0], [10, 20]]},\\n    {\"input\": [[0, 0], [0, 0]], \"output\": [[0, 0], [0, 0]]}\\n]'}, page_content='Given a matrix, return a new matrix with all numbers multiplied by 2'),\n",
       " Document(metadata={'data_formats': 'int,list[list]', 'solution': 'def count_even_rows(matrix:list[list[int]])->int:\\n    return sum(1 for row in matrix if len(row) % 2 == 0)', 'tags': 'count,matrix,filtering', 'test_cases': '[\\n    {\"input\": [[1, 2], [3, 4, 5], [6, 7, 8, 9]], \"output\": 1},\\n    {\"input\": [[1, 2, 3, 4], [5, 6], [7, 8, 9, 10]], \"output\": 2},\\n    {\"input\": [[1, 2, 3], [4, 5, 6], [7, 8, 9]], \"output\": 0}\\n]'}, page_content='Find the number of rows with an even number of elements in a matrix'),\n",
       " Document(metadata={'data_formats': 'int,list[list]', 'solution': 'def sum_even_nums(matrix:list[list[int]])->int:\\n    return sum(num for row in matrix for num in row if num % 2 == 0)', 'tags': 'matrix,sum,filtering', 'test_cases': '[\\n    {\"input\": [[1, 2, 3], [4, 5, 6], [7, 8, 9]], \"output\": 20},\\n    {\"input\": [[10, 20, 30], [40, 50, 60], [70, 80, 90]], \"output\": 300},\\n    {\"input\": [[1, 3, 5], [7, 9, 11], [13, 15, 17]], \"output\": 0}\\n]'}, page_content='Find the sum of all even numbers in a matrix'),\n",
       " Document(metadata={'data_formats': 'int,list', 'solution': 'def index_of_min(nums:list[int])->int:\\n    return nums.index(min(nums))', 'tags': 'min,index', 'test_cases': '[\\n    {\"input\": [5, 2, 8, 12, 3], \"output\": 1},\\n    {\"input\": [1, 2, 3, 4, 5], \"output\": 0},\\n    {\"input\": [10, 20, 30, 40, 50], \"output\": 0}\\n]'}, page_content='Find the index of the minimum number in a list')]"
      ]
     },
     "execution_count": 4,
     "metadata": {},
     "output_type": "execute_result"
    }
   ],
   "source": [
    "db_store.similarity_search(\"matrix\")"
   ]
  },
  {
   "cell_type": "code",
   "execution_count": 5,
   "metadata": {},
   "outputs": [
    {
     "data": {
      "text/plain": [
       "[Document(metadata={'data_formats': 'str,dict', 'solution': 'def word_count(sentence:str)->dict:\\n    return {word: sentence.count(word) for word in sentence.split()}', 'tags': 'count,split,dictionary', 'test_cases': '[\\n    {\"input\": \"hello world\", \"output\": {\"hello\": 1, \"world\": 1}},\\n    {\"input\": \"hello hello world world\", \"output\": {\"hello\": 2, \"world\": 2}},\\n    {\"input\": \"\", \"output\": {}}\\n]'}, page_content='Given a string, return a dictionary with count of each word'),\n",
       " Document(metadata={'data_formats': 'str,list', 'solution': \"def concat_strings(strings:list[str])->str:\\n    return '-'.join(strings)\", 'tags': 'concatenation,join', 'test_cases': '[\\n    {\"input\": [\"hello\", \"world\", \"python\"], \"output\": \"hello-world-python\"},\\n    {\"input\": [\"a\", \"b\", \"c\", \"d\"], \"output\": \"a-b-c-d\"},\\n    {\"input\": [\"single\"], \"output\": \"single\"}\\n]'}, page_content='Given a list of strings, return a string with all strings concatenated and separated by hyphens'),\n",
       " Document(metadata={'data_formats': 'str', 'solution': \"def uppercase_words(sentence:str)->str:\\n    return '-'.join(word.upper() for word in sentence.split('-'))\", 'tags': 'uppercase,split,join', 'test_cases': '[\\n    {\"input\": \"hello world\", \"output\": \"HELLO WORLD\"},\\n    {\"input\": \"python is fun\", \"output\": \"PYTHON IS FUN\"},\\n    {\"input\": \"i am a test case\", \"output\": \"I AM A TEST CASE\"}\\n]'}, page_content='Given a string, return a new string with all words in uppercase'),\n",
       " Document(metadata={'data_formats': 'int,list[list]', 'solution': 'def multiply_by_two(matrix:list[list[int]])->list[list[int]]:\\n    return [[num * 2 for num in row] for row in matrix]', 'tags': 'matrix,multiplication,list-comprehension', 'test_cases': '[\\n    {\"input\": [[1, 2], [3, 4]], \"output\": [[2, 4], [6, 8]]},\\n    {\"input\": [[-1, 0], [5, 10]], \"output\": [[-2, 0], [10, 20]]},\\n    {\"input\": [[0, 0], [0, 0]], \"output\": [[0, 0], [0, 0]]}\\n]'}, page_content='Given a matrix, return a new matrix with all numbers multiplied by 2')]"
      ]
     },
     "execution_count": 5,
     "metadata": {},
     "output_type": "execute_result"
    }
   ],
   "source": [
    "db_store.similarity_search(\"a\")"
   ]
  },
  {
   "cell_type": "code",
   "execution_count": null,
   "metadata": {},
   "outputs": [],
   "source": []
  }
 ],
 "metadata": {
  "kernelspec": {
   "display_name": "Python 3",
   "language": "python",
   "name": "python3"
  },
  "language_info": {
   "codemirror_mode": {
    "name": "ipython",
    "version": 3
   },
   "file_extension": ".py",
   "mimetype": "text/x-python",
   "name": "python",
   "nbconvert_exporter": "python",
   "pygments_lexer": "ipython3",
   "version": "3.12.1"
  }
 },
 "nbformat": 4,
 "nbformat_minor": 2
}

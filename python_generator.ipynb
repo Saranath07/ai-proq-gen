{
 "cells": [
  {
   "cell_type": "code",
   "execution_count": 1,
   "metadata": {},
   "outputs": [
    {
     "data": {
      "text/plain": [
       "True"
      ]
     },
     "execution_count": 1,
     "metadata": {},
     "output_type": "execute_result"
    }
   ],
   "source": [
    "from dotenv import load_dotenv\n",
    "load_dotenv()\n"
   ]
  },
  {
   "cell_type": "code",
   "execution_count": 2,
   "metadata": {},
   "outputs": [
    {
     "name": "stderr",
     "output_type": "stream",
     "text": [
      "/home/saranath/ai-proq-gen/myvenv/lib64/python3.12/site-packages/sentence_transformers/cross_encoder/CrossEncoder.py:11: TqdmWarning: IProgress not found. Please update jupyter and ipywidgets. See https://ipywidgets.readthedocs.io/en/stable/user_install.html\n",
      "  from tqdm.autonotebook import tqdm, trange\n"
     ]
    }
   ],
   "source": [
    "import json\n",
    "from proq_gen.generators.chroma import get_db_store\n",
    "from proq_gen.generators.ideation import get_ideation_chain\n",
    "from proq_gen.generators.generator import get_generator_chain\n",
    "\n",
    "\n",
    "with open(\"data/python_kb.json\") as f:\n",
    "    python_kb = json.load(f)\n",
    "\n",
    "ideation_chain = get_ideation_chain(\n",
    "    lang=\"python\",\n",
    "    concept_groups=[\n",
    "        (\n",
    "            python_kb[\"data_processing\"][\"concepts\"],\n",
    "            6,\n",
    "        ),  # randomly picks 6 concepts from all concepts\n",
    "        (\n",
    "            python_kb[\"data_formats\"],\n",
    "            5,\n",
    "        ),  # randomly picks 5 data formats from all data formats\n",
    "    ],\n",
    "    **python_kb[\"data_processing\"][\"ideation\"]\n",
    ")\n",
    "\n",
    "db_store = get_db_store(\"python-questions\")\n",
    "\n",
    "generator_chain = get_generator_chain(ideation_chain, db_store)"
   ]
  },
  {
   "cell_type": "code",
   "execution_count": 8,
   "metadata": {},
   "outputs": [
    {
     "data": {
      "text/plain": [
       "[{'statement': 'Given a dictionary where keys are strings and values are integers, find the string with the maximum length.',\n",
       "  'solution': 'def max_length_str(dict_obj:dict)->str:\\n    return max(dict_obj.keys(), key=lambda x: len(x))',\n",
       "  'tags': ['max', 'lambda', 'keys', 'string'],\n",
       "  'data_formats': ['dict', 'str']},\n",
       " {'statement': 'Find the sum of the squares of the first n natural numbers.',\n",
       "  'solution': 'def sum_squares(n:int)->int:\\n    return sum(map(lambda x: x**2, range(1, n+1)))',\n",
       "  'tags': ['sum', 'map', 'lambda', 'numeric'],\n",
       "  'data_formats': ['int']}]"
      ]
     },
     "execution_count": 8,
     "metadata": {},
     "output_type": "execute_result"
    }
   ],
   "source": [
    "db_store.add"
   ]
  },
  {
   "cell_type": "code",
   "execution_count": null,
   "metadata": {},
   "outputs": [],
   "source": []
  },
  {
   "cell_type": "code",
   "execution_count": 4,
   "metadata": {},
   "outputs": [
    {
     "data": {
      "text/plain": [
       "{'new_problems': ['6fb29630-f730-42e4-a97a-0faaec657a98',\n",
       "  '9f939b51-eb1c-48af-991f-7e863d35fbdb',\n",
       "  '1dc92368-a9a1-4f61-ab41-2bf40cc8e38f',\n",
       "  'e96521e4-0e9a-4139-ae47-4f2610cf31a7',\n",
       "  '5ae39f48-381a-4af5-a6c3-14bd1cd96c3a',\n",
       "  '2f378726-d9b9-47cc-823d-5bd95ba0af35',\n",
       "  'd34db8e3-8bcf-4f32-bc11-d305c4f3307a',\n",
       "  '979831dd-d251-4031-98cc-f539c256eb94',\n",
       "  '877e8694-bb8e-46dd-8c04-4b10c4e456b6',\n",
       "  '483d6dde-1728-4e12-927d-0e0339f1ffa8'],\n",
       " 'duplicate_problems': []}"
      ]
     },
     "execution_count": 4,
     "metadata": {},
     "output_type": "execute_result"
    }
   ],
   "source": [
    "generator_chain.invoke({\"n_problems\":10})"
   ]
  },
  {
   "cell_type": "code",
   "execution_count": 7,
   "metadata": {},
   "outputs": [
    {
     "data": {
      "text/plain": [
       "[Document(metadata={'data_formats': 'int,list[list]', 'solution': 'def max_in_each_row(matrix:list[list[int]])->list[int]:\\n    return list(map(max, matrix))', 'tags': 'matrix,map,max'}, page_content='Given a matrix, find the maximum value in each row.'),\n",
       " Document(metadata={'data_formats': 'int,list[list]', 'solution': 'def sum_main_diagonal(matrix:list[list[int]])->int:\\n    return sum(matrix[i][i] for i in range(len(matrix)))', 'tags': 'matrix,sum,generator'}, page_content='Given a matrix, find the sum of all elements in the main diagonal.'),\n",
       " Document(metadata={'data_formats': 'int,list', 'solution': 'def index_of_max(nums:list[int])->int:\\n    return nums.index(max(nums))', 'tags': 'index,max'}, page_content='Find the index of the first occurrence of the maximum number in a list.'),\n",
       " Document(metadata={'data_formats': 'dict', 'solution': 'def max_value_key(d:dict)->str:\\n    return max(d, key=d.get)', 'tags': 'dict,max,key'}, page_content='Given a dictionary, find the key with the maximum value.')]"
      ]
     },
     "execution_count": 7,
     "metadata": {},
     "output_type": "execute_result"
    }
   ],
   "source": [
    "db_store.similarity_search(\"matrix\")"
   ]
  },
  {
   "cell_type": "code",
   "execution_count": null,
   "metadata": {},
   "outputs": [],
   "source": []
  }
 ],
 "metadata": {
  "kernelspec": {
   "display_name": "Python 3",
   "language": "python",
   "name": "python3"
  },
  "language_info": {
   "codemirror_mode": {
    "name": "ipython",
    "version": 3
   },
   "file_extension": ".py",
   "mimetype": "text/x-python",
   "name": "python",
   "nbconvert_exporter": "python",
   "pygments_lexer": "ipython3",
   "version": "3.12.1"
  }
 },
 "nbformat": 4,
 "nbformat_minor": 2
}
